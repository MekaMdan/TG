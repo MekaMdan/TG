{
  "nbformat": 4,
  "nbformat_minor": 0,
  "metadata": {
    "colab": {
      "name": "TG2.ipynb",
      "provenance": []
    },
    "kernelspec": {
      "name": "python3",
      "display_name": "Python 3"
    },
    "language_info": {
      "name": "python"
    }
  },
  "cells": [
    {
      "cell_type": "markdown",
      "source": [
        "# Comandos para baixar bibliotecas/ baixar arquivos\n",
        "\n"
      ],
      "metadata": {
        "id": "xhke5rN5NiOj"
      }
    },
    {
      "cell_type": "code",
      "source": [
        "!pip install gender-guesser\n",
        "!wget https://data.brasil.io/dataset/genero-nomes/nomes.csv.gz"
      ],
      "metadata": {
        "colab": {
          "base_uri": "https://localhost:8080/"
        },
        "id": "oRVrPjXxNkL9",
        "outputId": "014b10d2-814a-422a-88e7-bc1983ae84a7"
      },
      "execution_count": null,
      "outputs": [
        {
          "output_type": "stream",
          "name": "stdout",
          "text": [
            "Requirement already satisfied: gender-guesser in /usr/local/lib/python3.7/dist-packages (0.4.0)\n",
            "--2022-01-24 20:10:12--  https://data.brasil.io/dataset/genero-nomes/nomes.csv.gz\n",
            "Resolving data.brasil.io (data.brasil.io)... 104.26.9.175, 104.26.8.175, 172.67.71.45, ...\n",
            "Connecting to data.brasil.io (data.brasil.io)|104.26.9.175|:443... connected.\n",
            "HTTP request sent, awaiting response... 200 OK\n",
            "Length: 1895785 (1.8M) [application/gzip]\n",
            "Saving to: ‘nomes.csv.gz.2’\n",
            "\n",
            "nomes.csv.gz.2      100%[===================>]   1.81M  --.-KB/s    in 0.04s   \n",
            "\n",
            "2022-01-24 20:10:12 (51.3 MB/s) - ‘nomes.csv.gz.2’ saved [1895785/1895785]\n",
            "\n"
          ]
        }
      ]
    },
    {
      "cell_type": "markdown",
      "source": [
        "# Imports de Bibliotecas"
      ],
      "metadata": {
        "id": "JP7fE42sNqBi"
      }
    },
    {
      "cell_type": "code",
      "source": [
        "import json\n",
        "import sys\n",
        "import requests\n",
        "import csv\n",
        "import gzip\n",
        "import io\n",
        "from bs4 import BeautifulSoup\n",
        "import re\n",
        "import tensorflow as tf\n",
        "from urllib.request import urlopen  \n",
        "import gender_guesser.detector as gender\n",
        "from unicodedata import normalize"
      ],
      "metadata": {
        "id": "2tmVMP1VNqsb"
      },
      "execution_count": null,
      "outputs": []
    },
    {
      "cell_type": "markdown",
      "source": [
        "# Classificador de Genero"
      ],
      "metadata": {
        "id": "2rfFj7N-OCsS"
      }
    },
    {
      "cell_type": "code",
      "source": [
        "g = gender.Detector(case_sensitive=False)\n",
        "\n",
        "def encode(name):\n",
        "    ascii_name = normalize(\"NFKD\", name).encode(\"ascii\", errors=\"ignore\").decode(\"ascii\")\n",
        "    return ascii_name.upper()\n",
        "\n",
        "def load_data():\n",
        "    fobj = io.TextIOWrapper(gzip.open(\"nomes.csv.gz\"), encoding=\"utf-8\")\n",
        "    csv_reader = csv.DictReader(fobj)\n",
        "    data = {\n",
        "        row[\"first_name\"]: row[\"classification\"]\n",
        "        for row in csv_reader\n",
        "    }\n",
        "    fobj.close()\n",
        "    return data\n",
        "\n",
        "name_data = load_data()"
      ],
      "metadata": {
        "id": "ha4bByg_OF-w"
      },
      "execution_count": null,
      "outputs": []
    },
    {
      "cell_type": "code",
      "source": [
        "def classify_download(name):\n",
        "    encoded_name = encode(name)\n",
        "    if encoded_name in name_data:\n",
        "      return name_data[encoded_name]\n",
        "    return 'A'"
      ],
      "metadata": {
        "id": "aK-hAsq8OYOa"
      },
      "execution_count": null,
      "outputs": []
    },
    {
      "cell_type": "code",
      "source": [
        "def get_name(name):\n",
        "  return name.split()[0]\n",
        "\n",
        "def guess(name_to_gender):\n",
        "  name_to_gender\n",
        "  genderName = g.get_gender(name=name_to_gender)\n",
        "  if (genderName) == 'male': \n",
        "    return 'M'\n",
        "  else:\n",
        "    if (genderName == 'female'):\n",
        "        return 'F'\n",
        "    else:\n",
        "        genderName = classify_download(name_to_gender)\n",
        "        if genderName != 'A':\n",
        "          return genderName\n",
        "        else:\n",
        "          return  '?'\n",
        "\n",
        "def guess_name(name):\n",
        "  new_name = get_name(name)\n",
        "  return guess(new_name)"
      ],
      "metadata": {
        "id": "SEuXKmyOQEYm"
      },
      "execution_count": null,
      "outputs": []
    },
    {
      "cell_type": "markdown",
      "source": [
        "Testes e exemplos de uso das funções"
      ],
      "metadata": {
        "id": "ghrInu5Vwler"
      }
    },
    {
      "cell_type": "code",
      "source": [
        "y = get_name('Mariana Alencar')\n",
        "print(y)\n",
        "\n",
        "resp = guess('Mariana')\n",
        "print(resp)\n",
        "\n",
        "y = get_name('Kenzo Shiraishi')\n",
        "print(y)\n",
        "resp = guess(y)\n",
        "print(resp)\n",
        "\n",
        "print(guess_name('Lucas Kawabata'))"
      ],
      "metadata": {
        "colab": {
          "base_uri": "https://localhost:8080/"
        },
        "id": "rGLhIBLKueNc",
        "outputId": "4cd2224d-1b0e-4f32-8f92-5f774cc21038"
      },
      "execution_count": null,
      "outputs": [
        {
          "output_type": "stream",
          "name": "stdout",
          "text": [
            "Mariana\n",
            "F\n",
            "Kenzo\n",
            "M\n",
            "M\n"
          ]
        }
      ]
    },
    {
      "cell_type": "markdown",
      "source": [
        "# Criação dos comandos cypher"
      ],
      "metadata": {
        "id": "_w9XSoPoxFOJ"
      }
    },
    {
      "cell_type": "markdown",
      "source": [
        ""
      ],
      "metadata": {
        "id": "5TXPxb18EHvA"
      }
    },
    {
      "cell_type": "markdown",
      "source": [
        "## UFAM"
      ],
      "metadata": {
        "id": "Lj0Ao-DDxju_"
      }
    },
    {
      "cell_type": "code",
      "source": [
        "class ResearcherUFAM(object):\n",
        "    def __init__(self, name='',gender='',email=''):\n",
        "        self.name = name\n",
        "        self.gender = gender\n",
        "        self.email = email\n",
        "    def toCypher(self):\n",
        "        return \"CREATE(a:Author {name: '\" + self.name + \"', gender: '\" + self.gender + \"', email: '\" + self.email + \"'});\"\n"
      ],
      "metadata": {
        "id": "2m5UobTcDRfF"
      },
      "execution_count": 90,
      "outputs": []
    },
    {
      "cell_type": "code",
      "source": [
        "print(\"Starting scrap for UFAM\")\n",
        "\n",
        "url_ufma = 'https://icomp.ufam.edu.br/corpo-docente.html'\n",
        "page_ufma = requests.get(url_ufma)\n",
        "soup_ufma = BeautifulSoup(page_ufma.text, \"html5lib\")\n",
        "ufam_professors = list()"
      ],
      "metadata": {
        "id": "wV0n6HI7B2um",
        "colab": {
          "base_uri": "https://localhost:8080/"
        },
        "outputId": "5db01333-71d8-4d38-fe38-e4483dfe2f0d"
      },
      "execution_count": 91,
      "outputs": [
        {
          "output_type": "stream",
          "name": "stdout",
          "text": [
            "Starting scrap for UFAM\n"
          ]
        }
      ]
    },
    {
      "cell_type": "code",
      "source": [
        "lista_ufam = soup_ufma.find('div', attrs={\"class\":\"item-page\"})\n",
        "\n",
        "for campo in lista_ufam.find_all('nav'):\n",
        "    contador = 0;\n",
        "    # para achar o nome do professor\n",
        "    for entry in campo.find_all('h2'):\n",
        "        op = contador % 2\n",
        "        if op == 0:\n",
        "            name = entry.text.strip()\n",
        "        contador += 1   \n",
        "    email = campo.text.split(\"Email:\")[1].strip()\n",
        "    gender = guess_name(name)\n",
        "    ufam_professors.append(ResearcherUFAM(name, gender, email))\n",
        "\n",
        "with open('docentes-ufam.cypher','w', encoding='ISO-8859-1') as f:\n",
        "    f.write(\"CREATE(n:Institution {name: 'UFAM', color: '#00FFFF'});\\n\")\n",
        "    for r in ufam_professors:\n",
        "        f.write(r.toCypher()+ \"\\n\")\n",
        "        f.write(\"MATCH(i:Institution {name: 'UFAM'}),(a:Author {name: '\"+r.name+\"'}) MERGE (a)-[r:ASSOCIATED_TO]->(i);\\n\")\n",
        "\n",
        "    "
      ],
      "metadata": {
        "id": "2c6w0V9qKxam"
      },
      "execution_count": 92,
      "outputs": []
    },
    {
      "cell_type": "markdown",
      "source": [
        "## UFMG"
      ],
      "metadata": {
        "id": "10hHd16Cxf1H"
      }
    },
    {
      "cell_type": "code",
      "source": [
        "class ResearcherUFMG(object):\n",
        "    def __init__(self, name='', gender='',email=''):\n",
        "        self.name = name\n",
        "        self.gender = gender\n",
        "        self.email = email\n",
        "    def toCypher(self):\n",
        "        return \"CREATE(a:Author {name: '\" + self.name + \"', gender: '\" + self.gender + \"', email: '\" + self.email + \"'});\"\n"
      ],
      "metadata": {
        "id": "gg2dmCF9Cx9s"
      },
      "execution_count": 93,
      "outputs": []
    },
    {
      "cell_type": "code",
      "source": [
        "print(\"Starting scrap for UFMG\")\n",
        "url_ufmg = 'https://ppgcc.dcc.ufmg.br/docentes/'\n",
        "page_ufmg = requests.get(url_ufmg)"
      ],
      "metadata": {
        "id": "LijimRi5B2d9",
        "colab": {
          "base_uri": "https://localhost:8080/"
        },
        "outputId": "ebff88d9-d6a8-4ec5-a45d-98f5d5f7b8bb"
      },
      "execution_count": 94,
      "outputs": [
        {
          "output_type": "stream",
          "name": "stdout",
          "text": [
            "Starting scrap for UFMG\n"
          ]
        }
      ]
    },
    {
      "cell_type": "code",
      "source": [
        "ufmg_professors = list()\n",
        "soup_ufmg = BeautifulSoup(page_ufmg.text, 'html.parser')\n",
        "table_ufmg = soup_ufmg.find('ul', attrs={\"class\":\"professor\"})\n",
        "\n",
        "for campo in table_ufmg.find_all('li'):\n",
        "    print(campo)"
      ],
      "metadata": {
        "colab": {
          "base_uri": "https://localhost:8080/"
        },
        "id": "f4nczp7jf9xq",
        "outputId": "e71d322a-200b-48c3-8113-ecf1fe699d83"
      },
      "execution_count": 102,
      "outputs": [
        {
          "output_type": "stream",
          "name": "stdout",
          "text": [
            "<li><article class=\"professor\"><p class=\"professor-nome\">Adriano Alonso Veloso</p><div class=\"mail\"><a href=\"mailto:adrianov@dcc.ufmg.br\">eMail</a>    <a href=\"http://homepages.dcc.ufmg.br/~adrianov/\"> www </a></div><img src=\"https://ppgcc.dcc.ufmg.br/wp-content/themes/wp-cedecom/capg/files/professores/696.jpg\"><p class=\"professor-texto\">(Doutor, UFMG, Brasil, 2009) Mineração de Dados, Aprendizado de Máquina, Bancos de Dados).</p></img></article></li>\n",
            "<li><article class=\"professor\"><p class=\"professor-nome\">Adriano César Machado Pereira</p><div class=\"mail\"><a href=\"mailto:adrianoc@dcc.ufmg.br\">eMail</a>    <a href=\"http://homepages.dcc.ufmg.br/~adrianoc/\"> www </a></div><img src=\"https://ppgcc.dcc.ufmg.br/wp-content/themes/wp-cedecom/capg/files/professores/679.jpg\"><p class=\"professor-texto\">(Doutor, UFMG, 2007)\r\n",
            "Análise de Desempenho, Aplicações Web, Comércio Eletrônico, Sistemas Paralelos e Distribuídos. </p></img></article></li>\n",
            "<li><article class=\"professor\"><p class=\"professor-nome\">Alberto Henrique Frade Laender</p><div class=\"mail\"><a href=\"mailto:laender@dcc.ufmg.br\">eMail</a>    <a href=\"http://homepages.dcc.ufmg.br/~laender/\"> www </a></div><img src=\"https://ppgcc.dcc.ufmg.br/wp-content/themes/wp-cedecom/capg/files/professores/16.jpg\"><p class=\"professor-texto\">(PhD, University of East Anglia, Inglaterra, 1984) Modelagem Conceitual, Projeto de Bancos de Dados, Interfaces Cooperativas, Gerencia de Dados da Web, Bibliotecas Digitais.</p></img></article></li>\n",
            "<li><article class=\"professor\"><p class=\"professor-nome\">Aldri Luiz dos Santos</p><div class=\"mail\"><a href=\"mailto:aldri@dcc.ufmg.br\">eMail</a>    <a href=\"https://homepages.dcc.ufmg.br/~aldri/\"> www </a></div><img src=\"https://ppgcc.dcc.ufmg.br/wp-content/themes/wp-cedecom/capg/files/professores/795.jpg\"><p class=\"professor-texto\">(Doutor, UFMG, 2004)  Gerência de Redes,   Sistemas Distribuídos,  Arquitetura de Sistemas de Computação\r\n",
            "</p></img></article></li>\n",
            "<li><article class=\"professor\"><p class=\"professor-nome\">Alexandre Salles da Cunha</p><div class=\"mail\"><a href=\"mailto:acunha@dcc.ufmg.br\">eMail</a>    <a href=\"http://homepages.dcc.ufmg.br/~acunha/\"> www </a></div><img src=\"https://ppgcc.dcc.ufmg.br/wp-content/themes/wp-cedecom/capg/files/professores/561.jpg\"/><p class=\"professor-texto\">(DSc., COPPE/UFRJ, Brasil, 2006) . Programação Matemática, Otimização Combinatória. </p></article></li>\n",
            "<li><article class=\"professor\"><p class=\"professor-nome\">Ana Paula Couto da Silva</p><div class=\"mail\"><a href=\"mailto:ana.coutosilva@dcc.ufmg.br\">eMail</a></div><img src=\"https://ppgcc.dcc.ufmg.br/wp-content/themes/wp-cedecom/capg/files/professores/903.jpg\"/><p class=\"professor-texto\">(Doutora, COPPE/UFRJ, Brasil, 2006) Modelagem e Análise de Desempenho - Redes Complexas.</p></article></li>\n",
            "<li><article class=\"professor\"><p class=\"professor-nome\">André Cavalcante Hora</p><div class=\"mail\"><a href=\"mailto:andrehora@dcc.ufmg.br\">eMail</a>    <a href=\"http://dcc.ufmg.br/~andrehora\"> www </a></div><img src=\"https://ppgcc.dcc.ufmg.br/wp-content/themes/wp-cedecom/capg/files/professores/1019.jpg\"/><p class=\"professor-texto\">(Doutor, Université Lille 1 - Sciences et Technologies - USTL, França, 2014) Engenharia de Software</p></article></li>\n",
            "<li><article class=\"professor\"><p class=\"professor-nome\">Anisio Mendes Lacerda</p><div class=\"mail\"><a href=\"mailto:anisio@dcc.ufmg.br\">eMail</a>    <a href=\"http://www.dcc.ufmg.br/~anisio\"> www </a></div><img src=\"https://ppgcc.dcc.ufmg.br/wp-content/themes/wp-cedecom/capg/files/professores/1196.jpg\"/><p class=\"professor-texto\">(Doutor, Universidade Federal de Minas Gerais, 2013) Aprendizado de Máquina, Aplicações Médicas, Fusão de Dados, Sistemas de Recomendação, Recuperação de Informação</p></article></li>\n",
            "<li><article class=\"professor\"><p class=\"professor-nome\">Antonio Alfredo Ferreira Loureiro</p><div class=\"mail\"><a href=\"mailto:loureiro@dcc.ufmg.br\">eMail</a>    <a href=\"http://homepages.dcc.ufmg.br/~loureiro/\"> www </a></div><img src=\"https://ppgcc.dcc.ufmg.br/wp-content/themes/wp-cedecom/capg/files/professores/14.jpg\"/><p class=\"professor-texto\">(PhD, University of British Columbia, Canadá, 1995) Redes de Computadores, Sistemas e Algoritmos Distribuídos.</p></article></li>\n",
            "<li><article class=\"professor\"><p class=\"professor-nome\">Arnaldo de Albuquerque Araújo</p><div class=\"mail\"><a href=\"mailto:arnaldo@dcc.ufmg.br\">eMail</a>    <a href=\"http://homepages.dcc.ufmg.br/~arnaldo/\"> www </a></div><img src=\"https://ppgcc.dcc.ufmg.br/wp-content/themes/wp-cedecom/capg/files/professores/2.jpg\"/><p class=\"professor-texto\">(DSc, UFPb, Brasil, 1987; pos-dout., ESIEE Paris, Fança, 1994/95) Processamento Digital de Imagens, Sistemas de Informação Multimídia, Recuperação de Informação Visual.</p></article></li>\n",
            "<li><article class=\"professor\"><p class=\"professor-nome\">Berthier Ribeiro de Araújo Neto</p><div class=\"mail\"><a href=\"mailto:berthier@dcc.ufmg.br\">eMail</a>    <a href=\"http://homepages.dcc.ufmg.br/~berthier/\"> www </a></div><img src=\"https://ppgcc.dcc.ufmg.br/wp-content/themes/wp-cedecom/capg/files/professores/30.jpg\"/><p class=\"professor-texto\">(PhD, University of California, Los Angeles, EUA, 1995) Information Retrieval, Digital Library Interfaces, Hypertext Disign, Multimedia (Video on Demand).</p></article></li>\n",
            "<li><article class=\"professor\"><p class=\"professor-nome\">Clodoveu Augusto Davis Júnior</p><div class=\"mail\"><a href=\"mailto:clodoveu@dcc.ufmg.br\">eMail</a>    <a href=\"http://homepages.dcc.ufmg.br/~clodoveu/DocuWiki/doku.php\"> www </a></div><img src=\"https://ppgcc.dcc.ufmg.br/wp-content/themes/wp-cedecom/capg/files/professores/192.jpg\"/><p class=\"professor-texto\">(Doutor, UFMG, Brasil, 2000) Bancos de dados geográficos, sistemas de informação geográficos (GIS), modelagem de dados espaço-temporais, ontologias.</p></article></li>\n",
            "<li><article class=\"professor\"><p class=\"professor-nome\">Cristiano Arbex Valle</p><div class=\"mail\">    <a href=\"http://homepages.dcc.ufmg.br/~arbex\"> www </a></div><img src=\"https://ppgcc.dcc.ufmg.br/wp-content/themes/wp-cedecom/capg/files/professores/1140.jpg\"/><p class=\"professor-texto\">(PhD, Brunel University, Inglaterra, 2014)  Pesquisa operacional, Otimização combinatória, Finanças quantitativas, Otimização sob incerteza</p></article></li>\n",
            "<li><article class=\"professor\"><p class=\"professor-nome\">Daniel Fernandes Macedo</p><div class=\"mail\"><a href=\"mailto:damacedo@dcc.ufmg.br\">eMail</a>    <a href=\"http://homepages.dcc.ufmg.br/~damacedo/\"> www </a></div><img src=\"https://ppgcc.dcc.ufmg.br/wp-content/themes/wp-cedecom/capg/files/professores/821.jpg\"/><p class=\"professor-texto\">(PhD Université Pierre et Marie Curie - Paris Sorbonne, 2009) Redes de computadores, gerenciamento de redes de computadores e telecomunicações, sistemas distribuídos, computação autonômica.</p></article></li>\n",
            "<li><article class=\"professor\"><p class=\"professor-nome\">Dorgival Olavo Guedes Neto</p><div class=\"mail\"><a href=\"mailto:dorgival@dcc.ufmg.br\">eMail</a>    <a href=\"http://homepages.dcc.ufmg.br/~dorgival/\"> www </a></div><img src=\"https://ppgcc.dcc.ufmg.br/wp-content/themes/wp-cedecom/capg/files/professores/52.jpg\"/><p class=\"professor-texto\">(PhD, University of Arizona, EUA, 1999) Redes de Computadores, Sistemas Operacionais, Sistemas Distribuídos.</p></article></li>\n",
            "<li><article class=\"professor\"><p class=\"professor-nome\">Douglas Guimarães Macharet</p><div class=\"mail\"><a href=\"mailto:doug@dcc.ufmg.br\">eMail</a>    <a href=\"http://homepages.dcc.ufmg.br/~doug/\"> www </a></div><img src=\"https://ppgcc.dcc.ufmg.br/wp-content/themes/wp-cedecom/capg/files/professores/979.jpg\"/><p class=\"professor-texto\">(Doutor, UFMG, 2013) Sistemas de Computação, Robótica móvel, Visão computacional, Inteligência artificial</p></article></li>\n",
            "<li><article class=\"professor\"><p class=\"professor-nome\">Eduardo Magno Lages Figueiredo</p><div class=\"mail\"><a href=\"mailto:figueiredo@dcc.ufmg.br\">eMail</a>    <a href=\"http://homepages.dcc.ufmg.br/~figueiredo/\"> www </a></div><img src=\"https://ppgcc.dcc.ufmg.br/wp-content/themes/wp-cedecom/capg/files/professores/767.jpg\"/><p class=\"professor-texto\">(PhD, Lancaster University, Inglaterra, 2009) Engenharia de Software, Medição e Avaliação Empírica, Modelagem de Sistemas.</p></article></li>\n",
            "<li><article class=\"professor\"><p class=\"professor-nome\">Erickson Rangel do Nascimento</p><div class=\"mail\"><a href=\"mailto:erickson@dcc.ufmg.br\">eMail</a>    <a href=\"http://homepages.dcc.ufmg.br/~erickson/\"> www </a></div><img src=\"https://ppgcc.dcc.ufmg.br/wp-content/themes/wp-cedecom/capg/files/professores/918.jpg\"/><p class=\"professor-texto\">(Doutor, UFMG, Brasil, 2012)  Visão Computacional, atuando principalmente nos seguintes temas: computer graphics, descriptors, three-dimensional reconstruction, computer vision e keypoints.</p></article></li>\n",
            "<li><article class=\"professor\"><p class=\"professor-nome\">Fabrício Benevenuto de Souza</p><div class=\"mail\"><a href=\"mailto:fabricio@dcc.ufmg.br\">eMail</a>    <a href=\"http://homepages.dcc.ufmg.br/~fabricio/\"> www </a></div><img src=\"https://ppgcc.dcc.ufmg.br/wp-content/themes/wp-cedecom/capg/files/professores/810.jpg\"/><p class=\"professor-texto\">(Doutor em Ciência da Computação, UFMG, 2010) Modelagem e Mineração de Mídias Sociais, Redes Complexas, Ciência das Redes.</p></article></li>\n",
            "<li><article class=\"professor\"><p class=\"professor-nome\">Fabricio Murai Ferreira</p><div class=\"mail\"><a href=\"mailto:murai@dcc.ufmg.br\">eMail</a></div><img src=\"https://ppgcc.dcc.ufmg.br/wp-content/themes/wp-cedecom/capg/files/professores/1160.jpg\"/><p class=\"professor-texto\">(Doutor, University of Massachusetts Amherst, Estados Unidos, 2016)  Redes Complexas, Modelagem Matemática, Aprendizado de Máquina, Amostragem e Estimação\r\n",
            "</p></article></li>\n",
            "<li><article class=\"professor\"><p class=\"professor-nome\">Fernando Magno Quintão Pereira</p><div class=\"mail\"><a href=\"mailto:fpereira@dcc.ufmg.br\">eMail</a>    <a href=\"http://homepages.dcc.ufmg.br/~fernando/\"> www </a></div><img src=\"https://ppgcc.dcc.ufmg.br/wp-content/themes/wp-cedecom/capg/files/professores/687.jpg\"/><p class=\"professor-texto\">(PhD, University of California, Los Angeles, EUA, 2008) Compiladores e Linguagens de Programação.</p></article></li>\n",
            "<li><article class=\"professor\"><p class=\"professor-nome\">Flavio Vinicius Diniz de Figueiredo</p><div class=\"mail\">    <a href=\"http://homepages.dcc.ufmg.br/~flaviovdf\"> www </a></div><img src=\"https://ppgcc.dcc.ufmg.br/wp-content/themes/wp-cedecom/capg/files/professores/1161.jpg\"/><p class=\"professor-texto\">(Doutor, UFMG, 2015) Ciência de Dados, Redes Sociais, Aprendizado de Máquina</p></article></li>\n",
            "<li><article class=\"professor\"><p class=\"professor-nome\">Gabriel de Morais Coutinho</p><div class=\"mail\">    <a href=\"http://homepages.dcc.ufmg.br/~gabriel\"> www </a></div><img src=\"https://ppgcc.dcc.ufmg.br/wp-content/themes/wp-cedecom/capg/files/professores/1162.jpg\"/><p class=\"professor-texto\">(Doutor, University of Waterloo, Canadá, 2014)  Teoria Algébrica de Grafos,    Computação Quântica\r\n",
            "</p></article></li>\n",
            "<li><article class=\"professor\"><p class=\"professor-nome\">George Luiz  Medeiros Teodoro </p><div class=\"mail\"><a href=\"mailto:george@dcc.ufmg.br\">eMail</a>    <a href=\"http://homepages.dcc.ufmg.br/~george\"> www </a></div><img src=\"https://ppgcc.dcc.ufmg.br/wp-content/themes/wp-cedecom/capg/files/professores/1200.jpg\"/><p class=\"professor-texto\">(Doutor, UFMG, Brasil, 2010)\r\n",
            "Computação de Alto Desempenho, Algoritmos para Mineração de Dados,  Computação em Ambientes Heterogêneos Multi-many-core, Sistemas de Comércio Eletrônico, Sistemas de Computação\r\n",
            "</p></article></li>\n",
            "<li><article class=\"professor\"><p class=\"professor-nome\">Geraldo Robson Mateus</p><div class=\"mail\"><a href=\"mailto:mateus@dcc.ufmg.br\">eMail</a>    <a href=\"http://buscatextual.cnpq.br/buscatextual/visualizacv.do?id=K4787426A3\"> www </a></div><img src=\"https://ppgcc.dcc.ufmg.br/wp-content/themes/wp-cedecom/capg/files/professores/15.jpg\"/><p class=\"professor-texto\">(Doutor, UFRJ, Brasil, 1986) Programação Matemática, Otimização Combinatória, Algoritmos.</p></article></li>\n",
            "<li><article class=\"professor\"><p class=\"professor-nome\">Gilberto Medeiros Ribeiro</p><div class=\"mail\"><a href=\"mailto:gilberto@dcc.ufmg.br\">eMail</a>    <a href=\"http://homepages.dcc.ufmg.br/~gilberto\"> www </a></div><img src=\"https://ppgcc.dcc.ufmg.br/wp-content/themes/wp-cedecom/capg/files/professores/1192.jpg\"/><p class=\"professor-texto\">(Doutor, UFMG, 1996) \r\n",
            "Internet das Coisas, Arquitetura de Computadores, Redes de Computadores PHY, Memórias não voláteis</p></article></li>\n",
            "<li><article class=\"professor\"><p class=\"professor-nome\">Gisele Lobo Pappa</p><div class=\"mail\"><a href=\"mailto:glpappa@dcc.ufmg.br\">eMail</a>    <a href=\"http://homepages.dcc.ufmg.br/~glpappa/\"> www </a></div><img src=\"https://ppgcc.dcc.ufmg.br/wp-content/themes/wp-cedecom/capg/files/professores/636.jpg\"/><p class=\"professor-texto\">(PhD, University of Kent at Canterbury, Inglaterra, 2007). Mineração de Dados, Aprendizagem de Máquina, Computação Evolucionária e Bioinformática.</p></article></li>\n",
            "<li><article class=\"professor\"><p class=\"professor-nome\">Haniel Moreira Barbosa</p><div class=\"mail\"><a href=\"mailto:hanielbbarbosa@gmail.com\">eMail</a>    <a href=\"https://homepages.dcc.ufmg.br/~hbarbosa/\"> www </a></div><img src=\"https://ppgcc.dcc.ufmg.br/wp-content/themes/wp-cedecom/capg/files/professores/1204.jpg\"/><p class=\"professor-texto\">(Doutor, Universidade de Lorraine, 2017) Métodos formais, Verificação formal, Síntese de programas,  Automatização de raciocínio, Satisfatibilidade Módulo Teorias\r\n",
            "</p></article></li>\n",
            "<li><article class=\"professor\"><p class=\"professor-nome\">Heitor Soares Ramos Filho - prof</p><div class=\"mail\"><a href=\"mailto:ramosh@dcc.ufmg.br\">eMail</a>    <a href=\"http://homepages.dcc.ufmg.br/~ramosh\"> www </a></div><img src=\"https://ppgcc.dcc.ufmg.br/wp-content/themes/wp-cedecom/capg/files/professores/1197.jpg\"/><p class=\"professor-texto\">(Doutor, Universidade Federal de Minas Gerais, 2012) Computação Urbana, Computação Móvel, Redes Veiculares, Redes sem Fio</p></article></li>\n",
            "<li><article class=\"professor\"><p class=\"professor-nome\">Ítalo Fernando Scotá Cunha</p><div class=\"mail\"><a href=\"mailto:cunha@dcc.ufmg.br\">eMail</a>    <a href=\"http://homepages.dcc.ufmg.br/~cunha/\"> www </a></div><img src=\"https://ppgcc.dcc.ufmg.br/wp-content/themes/wp-cedecom/capg/files/professores/865.jpg\"/><p class=\"professor-texto\">(Docteur, UPMC Sorbonne Universités, 2011). Redes de computadores e sistemas distribuídos.</p></article></li>\n",
            "<li><article class=\"professor\"><p class=\"professor-nome\">Jefersson Alex dos Santos</p><div class=\"mail\"><a href=\"mailto:jefersson@dcc.ufmg.br\">eMail</a>    <a href=\"http://homepages.dcc.ufmg.br/~jefersson/\"> www </a></div><img src=\"https://ppgcc.dcc.ufmg.br/wp-content/themes/wp-cedecom/capg/files/professores/978.jpg\"/><p class=\"professor-texto\">(Doutor, Université de Cergy-Pontoise (França) e pela UNICAMP (Brasil), 2013) Processamento de Imagens de Sensoriamento Remoto, Aprendizado de Máquina e Recuperação de Informação Visual por Conteúdo.</p></article></li>\n",
            "<li><article class=\"professor\"><p class=\"professor-nome\">Jeroen Antonius Maria van de Graaf</p><div class=\"mail\"><a href=\"mailto:jvdg@dcc.ufmg.br\">eMail</a>    <a href=\"http://homepages.dcc.ufmg.br/~jvdg/\"> www </a></div><img src=\"https://ppgcc.dcc.ufmg.br/wp-content/themes/wp-cedecom/capg/files/professores/659.jpg\"/><p class=\"professor-texto\">(PhD, Université de Montréal, Canada, 1998) Criptografia teórica e aplicada.</p></article></li>\n",
            "<li><article class=\"professor\"><p class=\"professor-nome\">João Guilherme Maia de Menezes</p><div class=\"mail\"><a href=\"mailto:jgmm@dcc.ufmg.br\">eMail</a>    <a href=\"http://homepages.dcc.ufmg.br/~jgmm\"> www </a></div><img src=\"https://ppgcc.dcc.ufmg.br/wp-content/themes/wp-cedecom/capg/files/professores/1199.jpg\"/><p class=\"professor-texto\">(Doutor, UFMG, 2013) Computação Urbana, Computação ubíqua, Computação Móvel, Redes Veiculares, Redes de Sensores</p></article></li>\n",
            "<li><article class=\"professor\"><p class=\"professor-nome\">José Marcos Silva Nogueira </p><div class=\"mail\"><a href=\"mailto:jmarcos@dcc.ufmg.br\">eMail</a>    <a href=\"http://homepages.dcc.ufmg.br/~jmarcos/\"> www </a></div><img src=\"https://ppgcc.dcc.ufmg.br/wp-content/themes/wp-cedecom/capg/files/professores/19.jpg\"/><p class=\"professor-texto\">(Doutor, UNICAMP, Brasil, 1985) Redes de Computadores, Sistemas Distribuídos, Gerenciamento de Redes de Telecomunicações.</p></article></li>\n",
            "<li><article class=\"professor\"><p class=\"professor-nome\">Jussara Marques de Almeida Gonçalves</p><div class=\"mail\"><a href=\"mailto:jussara@dcc.ufmg.br\">eMail</a>    <a href=\"http://homepages.dcc.ufmg.br/~jussara/\"> www </a></div><img src=\"https://ppgcc.dcc.ufmg.br/wp-content/themes/wp-cedecom/capg/files/professores/183.jpg\"/><p class=\"professor-texto\">(Doutora, University of Wisconsin - Madison, EUA, 2003) Distribuição de Mídia Contínua, Modelagem e Análise de Desempenho, Sistemas Distribuídos em Larga Escala.</p></article></li>\n",
            "<li><article class=\"professor\"><p class=\"professor-nome\">Leonardo Barbosa e Oliveira</p><div class=\"mail\"><a href=\"mailto:leonardo.barbosa@dcc.ufmg.br\">eMail</a>    <a href=\"https://sites.google.com/site/barbosaleonardo/\"> www </a></div><img src=\"https://ppgcc.dcc.ufmg.br/wp-content/themes/wp-cedecom/capg/files/professores/774.jpg\"/><p class=\"professor-texto\">(Doutor, Unicamp, Brasil, 2008) Segurança em Sistemas Distribuídos e Criptografia Aplicada.</p></article></li>\n",
            "<li><article class=\"professor\"><p class=\"professor-nome\">Loic Pascal Gilles Cerf</p><div class=\"mail\"><a href=\"mailto:lcerf@dcc.ufmg.br\">eMail</a>    <a href=\"http://homepages.dcc.ufmg.br/~lcerf/en/index.html\"> www </a></div><img src=\"https://ppgcc.dcc.ufmg.br/wp-content/themes/wp-cedecom/capg/files/professores/797.jpg\"/><p class=\"professor-texto\">(Doutor, INSA-Lyon, França, 2010) Mineração de dados.</p></article></li>\n",
            "<li><article class=\"professor\"><p class=\"professor-nome\">Luiz Chaimowicz</p><div class=\"mail\"><a href=\"mailto:chaimo@dcc.ufmg.br\">eMail</a>    <a href=\"http://homepages.dcc.ufmg.br/~chaimo/\"> www </a></div><img src=\"https://ppgcc.dcc.ufmg.br/wp-content/themes/wp-cedecom/capg/files/professores/508.jpg\"/><p class=\"professor-texto\">(Doutor, UFMG, Brasil, 2002) Robótica, Jogos digitais, Inteligência Artificial.</p></article></li>\n",
            "<li><article class=\"professor\"><p class=\"professor-nome\">Luiz Filipe Menezes Vieira</p><div class=\"mail\"><a href=\"mailto:lfvieira@dcc.ufmg.br\">eMail</a>    <a href=\"http://homepages.dcc.ufmg.br/~lfvieira/\"> www </a></div><img src=\"https://ppgcc.dcc.ufmg.br/wp-content/themes/wp-cedecom/capg/files/professores/755.jpg\"/><p class=\"professor-texto\">(PhD, University of California, Los Angeles, EUA, 2009) Redes de Computadores, Algoritmos, Arquitetura de Computadores.</p></article></li>\n",
            "<li><article class=\"professor\"><p class=\"professor-nome\">Marcos André Gonçalves</p><div class=\"mail\"><a href=\"mailto:mgoncalv@dcc.ufmg.br\">eMail</a>    <a href=\"http://homepages.dcc.ufmg.br/~mgoncalv/\"> www </a></div><img src=\"https://ppgcc.dcc.ufmg.br/wp-content/themes/wp-cedecom/capg/files/professores/486.jpg\"/><p class=\"professor-texto\">(PhD, Virginia Polytechnic Institute and State University, USA, 2004) Banco de Dados, Sistemas de Informação.</p></article></li>\n",
            "<li><article class=\"professor\"><p class=\"professor-nome\">Marcos Augusto Menezes Vieira</p><div class=\"mail\"><a href=\"mailto:mmvieira@dcc.ufmg.br\">eMail</a>    <a href=\"http://homepages.dcc.ufmg.br/~mmvieira/\"> www </a></div><img src=\"https://ppgcc.dcc.ufmg.br/wp-content/themes/wp-cedecom/capg/files/professores/799.jpg\"/><p class=\"professor-texto\">(PhD, University of Southern California, Los Angeles, EUA, 2010) Redes, Robótica Móvel e Sistemas Embutidos.</p></article></li>\n",
            "<li><article class=\"professor\"><p class=\"professor-nome\">Marco Túlio de Oliveira Valente</p><div class=\"mail\"><a href=\"mailto:mtov@dcc.ufmg.br\">eMail</a>    <a href=\"http://homepages.dcc.ufmg.br/~mtov/\"> www </a></div><img src=\"https://ppgcc.dcc.ufmg.br/wp-content/themes/wp-cedecom/capg/files/professores/61.jpg\"/><p class=\"professor-texto\">(Doutor, UFMG, Brasil, 2002)  Engenharia de Software</p></article></li>\n",
            "<li><article class=\"professor\"><p class=\"professor-nome\">Mario Fernando Montenegro Campos</p><div class=\"mail\"><a href=\"mailto:mario@dcc.ufmg.br\">eMail</a>    <a href=\"http://www.verlab.dcc.ufmg.br/\"> www </a></div><img src=\"https://ppgcc.dcc.ufmg.br/wp-content/themes/wp-cedecom/capg/files/professores/10.jpg\"/><p class=\"professor-texto\">(PhD, University of Pennsylvania, EUA, 1992) Robótica, Visão Computacional, Percepção Ativa.</p></article></li>\n",
            "<li><article class=\"professor\"><p class=\"professor-nome\">Mario Sérgio Ferreira Alvim Júnior</p><div class=\"mail\"><a href=\"mailto:msalvim@dcc.ufmg.br\">eMail</a>    <a href=\"https://sites.google.com/site/msalvimjr/\"> www </a></div><img src=\"https://ppgcc.dcc.ufmg.br/wp-content/themes/wp-cedecom/capg/files/professores/1030.jpg\"/><p class=\"professor-texto\">(PhD, École Polytechnique, França, 2011) Fluxo de Informação Quantitativo, Controle de Privacidade, Teoria da Informação, Teoria da Computação, Modelos Formais Probabilísticos. </p></article></li>\n",
            "<li><article class=\"professor\"><p class=\"professor-nome\">Mariza Andrade da Silva Bigonha</p><div class=\"mail\"><a href=\"mailto:mariza@dcc.ufmg.br\">eMail</a>    <a href=\"http://homepages.dcc.ufmg.br/~mariza/\"> www </a></div><img src=\"https://ppgcc.dcc.ufmg.br/wp-content/themes/wp-cedecom/capg/files/professores/37.jpg\"/><p class=\"professor-texto\">(Doutora, PUC/RJ, Brasil, 1994) Linguagens de Programação e Compiladores.</p></article></li>\n",
            "<li><article class=\"professor\"><p class=\"professor-nome\">Martín Gómez Ravetti</p><div class=\"mail\"><a href=\"mailto:martin@dcc.ufmg.br\">eMail</a>    <a href=\"https://www.dcc.ufmg.br/dcc/?q=pt-br/node/3702\"> www </a></div><img src=\"https://ppgcc.dcc.ufmg.br/wp-content/themes/wp-cedecom/capg/files/professores/1210.jpg\"/><p class=\"professor-texto\"></p></article></li>\n",
            "<li><article class=\"professor\"><p class=\"professor-nome\">Michele Nogueira Lima</p><div class=\"mail\"><a href=\"mailto:michele@dcc.ufmg.br\">eMail</a>    <a href=\"https://www.dcc.ufmg.br/dcc/?q=pt-br/michele\"> www </a></div><img src=\"https://ppgcc.dcc.ufmg.br/wp-content/themes/wp-cedecom/capg/files/professores/703.jpg\"/><p class=\"professor-texto\">(Doutora,  Université Pierre et Marie Curie/Laboratoire d'Informatique de Paris 6, 2009)  Redes de Computadores,  Segurança de Redes, Redes sem Fio\r\n",
            "</p></article></li>\n",
            "<li><article class=\"professor\"><p class=\"professor-nome\">Mirella Moura Moro</p><div class=\"mail\"><a href=\"mailto:mirella@dcc.ufmg.br\">eMail</a>    <a href=\"http://homepages.dcc.ufmg.br/~mirella/doku.php\"> www </a></div><img src=\"https://ppgcc.dcc.ufmg.br/wp-content/themes/wp-cedecom/capg/files/professores/637.jpg\"/><p class=\"professor-texto\">(PhD, University of California, Riverside, EUA, 2007) Banco de Dados, Sistemas de Informação, Processamento de Consulta XML, Disseminação de Conteúdo.</p></article></li>\n",
            "<li><article class=\"professor\"><p class=\"professor-nome\">Nivio Ziviani</p><div class=\"mail\"><a href=\"mailto:nivio@dcc.ufmg.br\">eMail</a>    <a href=\"http://homepages.dcc.ufmg.br/~nivio/en/index.php\"> www </a></div><img src=\"https://ppgcc.dcc.ufmg.br/wp-content/themes/wp-cedecom/capg/files/professores/39.jpg\"/><p class=\"professor-texto\">(PhD, University of Waterloo, Canadá, 1982) Recuperação de Informação, Bancos de Dados Textuais.</p></article></li>\n",
            "<li><article class=\"professor\"><p class=\"professor-nome\">Olga Nikolaevna Goussevskaia</p><div class=\"mail\"><a href=\"mailto:olga@dcc.ufmg.br\">eMail</a>    <a href=\"http://homepages.dcc.ufmg.br/~olga/\"> www </a></div><img src=\"https://ppgcc.dcc.ufmg.br/wp-content/themes/wp-cedecom/capg/files/professores/808.jpg\"/><p class=\"professor-texto\">(Doctor of Science, ETH Zurich, 2009) Algoritmos e complexidade computacional, algoritmos distribuídos, redes de comunicação sem fio, redes complexas e aplicativos.</p></article></li>\n",
            "<li><article class=\"professor\"><p class=\"professor-nome\">Omar Paranaíba Vilela Neto</p><div class=\"mail\"><a href=\"mailto:omar@dcc.ufmg.br\">eMail</a>    <a href=\"http://homepages.dcc.ufmg.br/~omar/\"> www </a></div><img src=\"https://ppgcc.dcc.ufmg.br/wp-content/themes/wp-cedecom/capg/files/professores/748.jpg\"/><p class=\"professor-texto\">(Doutor, PUC-Rio, Brasil, 2009) Nano-Computação, Nanotecnologia Computacional, Inteligência Computacional, Arquiteturas de Computadores.</p></article></li>\n",
            "<li><article class=\"professor\"><p class=\"professor-nome\">Pedro Olmo Stancioli Vaz de Melo</p><div class=\"mail\"><a href=\"mailto:pedroolmo@gmail.com\">eMail</a>    <a href=\"http://www.homepages.dcc.ufmg.br/~olmo/\"> www </a></div><img src=\"https://ppgcc.dcc.ufmg.br/wp-content/themes/wp-cedecom/capg/files/professores/944.jpg\"/><p class=\"professor-texto\">(Doutor, UFMG, Brasil, 2011) Descoberta de conhecimento e mineração de dados em sistemas distribuídos e complexos.</p></article></li>\n",
            "<li><article class=\"professor\"><p class=\"professor-nome\">Phablo Fernando Soares Moura</p><div class=\"mail\"><a href=\"mailto:phablo@dcc.ufmg.br\">eMail</a>    <a href=\"https://dcc.ufmg.br/dcc/?q=pt-br/node/3664\"> www </a></div><img src=\"https://ppgcc.dcc.ufmg.br/wp-content/themes/wp-cedecom/capg/files/professores/1205.jpg\"/><p class=\"professor-texto\">(Doutor, USP, 2017)  Teoria dos Grafos, Algoritmos, Otimização Combinatória\r\n",
            "</p></article></li>\n",
            "<li><article class=\"professor\"><p class=\"professor-nome\">Raquel Cardoso de Melo Minardi</p><div class=\"mail\"><a href=\"mailto:raquelcm@dcc.ufmg.br\">eMail</a>    <a href=\"http://homepages.dcc.ufmg.br/~raquelcm/\"> www </a></div><img src=\"https://ppgcc.dcc.ufmg.br/wp-content/themes/wp-cedecom/capg/files/professores/707.jpg\"/><p class=\"professor-texto\">(Doutora, UFMG, Brasil, 2008) Bioinformática e Quimioinformática.</p></article></li>\n",
            "<li><article class=\"professor\"><p class=\"professor-nome\">Raquel Oliveira Prates</p><div class=\"mail\"><a href=\"mailto:rprates@dcc.ufmg.br\">eMail</a>    <a href=\"http://homepages.dcc.ufmg.br/~rprates/\"> www </a></div><img src=\"https://ppgcc.dcc.ufmg.br/wp-content/themes/wp-cedecom/capg/files/professores/517.jpg\"/><p class=\"professor-texto\">(Doutora, PUC/RJ, Brasil, 1998) Projeto e Avaliação de Interfaces com Usuário, Interfaces para Ambientes Multi-usuário e Educacional.</p></article></li>\n",
            "<li><article class=\"professor\"><p class=\"professor-nome\">Renato Antônio Celso Ferreira</p><div class=\"mail\"><a href=\"mailto:renato@dcc.ufmg.br\">eMail</a>    <a href=\"http://homepages.dcc.ufmg.br/~renato/\"> www </a></div><img src=\"https://ppgcc.dcc.ufmg.br/wp-content/themes/wp-cedecom/capg/files/professores/53.jpg\"/><p class=\"professor-texto\">(PhD, University of Maryland, College Park, EUA, 2001) Compiladores Otimizadores, Computação de Alto Desempenho com Processamento de Grandes Volumes de Dados.</p></article></li>\n",
            "<li><article class=\"professor\"><p class=\"professor-nome\">Renato Martins Assunção</p><div class=\"mail\"><a href=\"mailto:assuncao@dcc.ufmg.br\">eMail</a>    <a href=\"http://homepages.dcc.ufmg.br/~assuncao/\"> www </a></div><img src=\"https://ppgcc.dcc.ufmg.br/wp-content/themes/wp-cedecom/capg/files/professores/392.jpg\"/><p class=\"professor-texto\">(PhD, University of Washington, Seattle, EUA, 1994) Aprendizagem de Máquina e estatística com foco em modelos baseados em campos aleatórios de Markov.</p></article></li>\n",
            "<li><article class=\"professor\"><p class=\"professor-nome\">Renato Vimieiro</p><div class=\"mail\"><a href=\"mailto:rvimieiro@dcc.ufmg.br\">eMail</a>    <a href=\"https://homepages.dcc.ufmg.br/~rvimieiro\"> www </a></div><img src=\"https://ppgcc.dcc.ufmg.br/wp-content/themes/wp-cedecom/capg/files/professores/1198.jpg\"/><p class=\"professor-texto\">(Doutor, The University of Newcastle Australia, Austrália, 2012 ) Mineração de Dados, Bioinformática, Análise Formal de Conceitos</p></article></li>\n",
            "<li><article class=\"professor\"><p class=\"professor-nome\">Rodrygo Luis Teodoro Santos</p><div class=\"mail\"><a href=\"mailto:rodrygo@dcc.ufmg.br\">eMail</a>    <a href=\"http://homepages.dcc.ufmg.br/~rodrygo/\"> www </a></div><img src=\"https://ppgcc.dcc.ufmg.br/wp-content/themes/wp-cedecom/capg/files/professores/929.jpg\"/><p class=\"professor-texto\">(Doutor, Universidade de Glasgow, Reino Unido, 2013) recomendação em larga escala em diferentes domínios, incluindo a Web, mídias sociais, e corporações.</p></article></li>\n",
            "<li><article class=\"professor\"><p class=\"professor-nome\">Sebastián Alberto Urrutia</p><div class=\"mail\"><a href=\"mailto:surrutia@dcc.ufmg.br\">eMail</a>    <a href=\"http://homepages.dcc.ufmg.br/~surrutia/ \"> www </a></div><img src=\"https://ppgcc.dcc.ufmg.br/wp-content/themes/wp-cedecom/capg/files/professores/571.jpg\"/><p class=\"professor-texto\">(DSc., PUC-RIO, Brasil, 2005) Otimização Combinatória, Teoria dos Grafos, Programação Inteira, Heurísticas e Metaheurísticas.\r\n",
            "\r\n",
            "\r\n",
            "</p></article></li>\n",
            "<li><article class=\"professor\"><p class=\"professor-nome\">Sérgio Vale Aguiar Campos</p><div class=\"mail\"><a href=\"mailto:scampos@dcc.ufmg.br\">eMail</a>    <a href=\"http://homepages.dcc.ufmg.br/~scampos/\"> www </a></div><img src=\"https://ppgcc.dcc.ufmg.br/wp-content/themes/wp-cedecom/capg/files/professores/12.jpg\"/><p class=\"professor-texto\">(PhD, Carnegie Mellon Univesity, EUA, 1996) Projeto, Análise e Verificação Automática de Sistemas Distribuídos e de Tempo Real.</p></article></li>\n",
            "<li><article class=\"professor\"><p class=\"professor-nome\">Thiago Ferreira de Noronha</p><div class=\"mail\"><a href=\"mailto:tfn@dcc.ufmg.br\">eMail</a>    <a href=\"http://homepages.dcc.ufmg.br/~tfn/\"> www </a></div><img src=\"https://ppgcc.dcc.ufmg.br/wp-content/themes/wp-cedecom/capg/files/professores/711.jpg\"/><p class=\"professor-texto\">(Doutor, PUC-Rio, Brasil, 2008) Otimização Combinatória, Programação Matemática, Otimização em Redes, Heurísticas, Metaheurísticas, Processamento Paralelo, Projeto e Análise de Algoritmos.</p></article></li>\n",
            "<li><article class=\"professor\"><p class=\"professor-nome\">Vinícius Fernandes dos Santos</p><div class=\"mail\"><a href=\"mailto:viniciussantos@dcc.ufmg.br\">eMail</a>    <a href=\"http://homepages.dcc.ufmg.br/~viniciussantos\"> www </a></div><img src=\"https://ppgcc.dcc.ufmg.br/wp-content/themes/wp-cedecom/capg/files/professores/1086.jpg\"/><p class=\"professor-texto\">(Doutor, UFRJ, Brasil, 2013) Análise e desenvolvimento de algoritmos, Teoria dos grafos, Otimização discreta\r\n",
            "</p></article></li>\n",
            "<li><article class=\"professor\"><p class=\"professor-nome\">Virgílio Augusto Fernandes Almeida</p><div class=\"mail\"><a href=\"mailto:virgilio@dcc.ufmg.br\">eMail</a>    <a href=\"http://homepages.dcc.ufmg.br/~virgilio/site/\"> www </a></div><img src=\"https://ppgcc.dcc.ufmg.br/wp-content/themes/wp-cedecom/capg/files/professores/24.jpg\"/><p class=\"professor-texto\">(PhD, Vanderbilt University, EUA, 1987) Computação Paralela e Distribuída, Análise de Desempenho de Sistemas e Computação</p></article></li>\n",
            "<li><article class=\"professor\"><p class=\"professor-nome\">Wagner Meira Júnior</p><div class=\"mail\"><a href=\"mailto:meira@dcc.ufmg.br\">eMail</a>    <a href=\"http://homepages.dcc.ufmg.br/~meira/DokuWiki/wiki/\"> www </a></div><img src=\"https://ppgcc.dcc.ufmg.br/wp-content/themes/wp-cedecom/capg/files/professores/11.jpg\"/><p class=\"professor-texto\">(PhD, University of Rochester, EUA, 1997) Computação Paralela e Distribuída, Computação Heurística.</p></article></li>\n",
            "<li><article class=\"professor\"><p class=\"professor-nome\">William Robson Schwartz</p><div class=\"mail\"><a href=\"mailto:william@dcc.ufmg.br\">eMail</a>    <a href=\"http://homepages.dcc.ufmg.br/~william/\"> www </a></div><img src=\"https://ppgcc.dcc.ufmg.br/wp-content/themes/wp-cedecom/capg/files/professores/839.jpg\"/><p class=\"professor-texto\">(PhD, University of Maryland, College Park, EUA, 2010) Visão Computacional, Biometria, Processamento de Imagens.</p></article></li>\n"
          ]
        }
      ]
    },
    {
      "cell_type": "markdown",
      "source": [
        "## UFRN\n"
      ],
      "metadata": {
        "id": "qiZg2PPAxcFP"
      }
    },
    {
      "cell_type": "code",
      "source": [
        "class ResearcherUFRN(object):\n",
        "    def __init__(self, name='', gender='', email='', lattes=''):\n",
        "        self.name = \" \".join([s.capitalize() for s in name.split()])\n",
        "        self.email = email\n",
        "        self.lattes = lattes\n",
        "        self.gender = gender\n",
        "    def toCypher(self):\n",
        "        if self.lattes != '':\n",
        "            return \"CREATE(a:Author {name: '\" + self.name + \"', gender: '\" + self.gender + \"', email: '\" + self.email + \"', lattesurl: '\" + self.lattes + \"'});\"\n",
        "        else:\n",
        "            return \"CREATE(a:Author {name: '\" + self.name + \"', gender: '\" + self.gender + \"', email: '\" + self.email + \"'});\"\n"
      ],
      "metadata": {
        "id": "E-ebAQGYCLpM"
      },
      "execution_count": null,
      "outputs": []
    },
    {
      "cell_type": "code",
      "source": [
        "print(\"Starting scrap for UFRN\")\n",
        "\n"
      ],
      "metadata": {
        "id": "4sQvKC42B2Kn"
      },
      "execution_count": null,
      "outputs": []
    },
    {
      "cell_type": "markdown",
      "source": [
        "## UNB"
      ],
      "metadata": {
        "id": "u7YjCngKxLqv"
      }
    },
    {
      "cell_type": "code",
      "source": [
        "print(\"Starting scraping of UNB professors\")\n",
        "\n",
        "class ResearcherUnB(object):\n",
        "    def __init__(self, nome='', gender='', email='', titulo='', areas='', titulo_ano_local='', lattes=''):\n",
        "        self.name = nome\n",
        "        self.email = email\n",
        "        self.lattesurl = lattes\n",
        "        self.titulo = titulo\n",
        "        self.titulo_ano_local = titulo_ano_local\n",
        "        self.areas = areas\n",
        "        self.gender = gender        \n",
        "                \n",
        "    def toCypher(self):\n",
        "        return \"CREATE(a:Author {name: '\" + self.name + \"', gender: '\" + self.gender +\"', lattesurl: '\" + self.lattesurl + \"', email: '\" + self.email + \"', title: '\" + self.titulo+\"', title_when_where: '\" + self.titulo_ano_local+\"', areas: '\" + self.areas + \"'});\"\n",
        "\n"
      ],
      "metadata": {
        "id": "ZpxGw0YBxuog",
        "colab": {
          "base_uri": "https://localhost:8080/"
        },
        "outputId": "f04e849e-848c-44d6-a193-90b43e03c491"
      },
      "execution_count": null,
      "outputs": [
        {
          "output_type": "stream",
          "name": "stdout",
          "text": [
            "Starting scraping of UNB professors\n"
          ]
        }
      ]
    },
    {
      "cell_type": "code",
      "source": [
        "try:\n",
        "    pagina_unb = requests.get(\"http://ppgi.unb.br/index.php?option=com_content&view=article&id=78&Itemid=471&lang=pt\")\n",
        "except Exception as e:\n",
        "    print(\"Erro ao ler a pagina %s\", str(e))\n",
        "    sys.exit(1)"
      ],
      "metadata": {
        "id": "htbf0K2_E3IX"
      },
      "execution_count": null,
      "outputs": []
    },
    {
      "cell_type": "code",
      "source": [
        "pagina_unb.encoding=\"ISO-8859-1\"\n",
        "soup_unb = BeautifulSoup(pagina_unb.text, 'html.parser')\n",
        "docentes_unb = list()\n",
        "tabela_docentes_unb = soup_unb.find('table', attrs={\"class\":\"docentes\"})\n",
        "\n",
        "contador = 0\n",
        "nome = ''\n",
        "email = ''\n",
        "areas = ''\n",
        "genero = ''\n",
        "titulo = ''\n",
        "titulo_ano_local = ''\n",
        "lattes = ''\n",
        "\n",
        "\n",
        "for campo in tabela_docentes_unb.find_all('td'):\n",
        "    \n",
        "    desloc = contador % 8\n",
        "    if desloc == 1:\n",
        "        \n",
        "        nome = campo.text.split('(')[0].strip()\n",
        "        genero = guess_name(nome)\n",
        "        lattes = campo.find_all('a')[-1]['href']\n",
        "    if desloc == 2:\n",
        "        titulo = campo.text.split(':')[1].strip()\n",
        "    if desloc == 3:\n",
        "        titulo_ano_local = campo.text\n",
        "    if desloc == 4:\n",
        "        email = campo.text.split(':')[1].strip().replace(\" [at] \", \"@\")\n",
        "    if desloc == 5:\n",
        "        areas = campo.text.split(':')[1].strip()\n",
        "        docentes_unb.append(ResearcherUnB(nome, genero, email, titulo, areas, titulo_ano_local, lattes))      \n",
        "    contador += 1    \n",
        "\n",
        "\n",
        "with open(\"docentes-unb.cypher\",'w', encoding='ISO-8859-1') as f:\n",
        "    f.write(\"CREATE(n:Institution {name: 'UnB', color:'#E466CB'});\\n\")\n",
        "    for d in docentes_unb:\n",
        "        f.write(d.toCypher()+'\\n')\n",
        "        f.write(\"MATCH(i:Institution {name: 'UnB'}),(a:Author {name: '\"+d.name+\"'}) MERGE (a)-[r:ASSOCIATED_TO]->(i);\\n\")\n",
        "\n",
        "print(\"Finished!!\")\n"
      ],
      "metadata": {
        "colab": {
          "base_uri": "https://localhost:8080/"
        },
        "id": "UC3df7uSWXUr",
        "outputId": "0a3450fd-6d0a-41a8-8f64-9dd5c5727597"
      },
      "execution_count": null,
      "outputs": [
        {
          "output_type": "stream",
          "name": "stdout",
          "text": [
            "Finished!!\n"
          ]
        }
      ]
    },
    {
      "cell_type": "markdown",
      "source": [
        "## USP"
      ],
      "metadata": {
        "id": "_u4DVaDLxUbY"
      }
    },
    {
      "cell_type": "code",
      "source": [
        "class ResearcherUSP(object):\n",
        "    def __init__(self, name='', gender = '', email=''):\n",
        "        self.name = name\n",
        "        self.email = email\n",
        "        self.gender = gender\n",
        "    def toCypher(self):\n",
        "        return \"CREATE(a:Author {name: '\" + self.name + \"', gender: '\" + self.gender + \"'});\"\n"
      ],
      "metadata": {
        "id": "c9ledL2LB1Zx"
      },
      "execution_count": null,
      "outputs": []
    },
    {
      "cell_type": "code",
      "source": [
        "usp_url = 'https://www.ime.usp.br/pos-computacao/orientadores/'\n",
        "uspResearchers = list()"
      ],
      "metadata": {
        "id": "4wicFicCZ4zZ"
      },
      "execution_count": null,
      "outputs": []
    },
    {
      "cell_type": "code",
      "source": [
        "page_usp = requests.get(usp_url)"
      ],
      "metadata": {
        "id": "A8bRytRhZ94W"
      },
      "execution_count": null,
      "outputs": []
    },
    {
      "cell_type": "code",
      "source": [
        "page_usp.encoding=\"UTF-8\"\n",
        "\n",
        "soup_usp = BeautifulSoup(page_usp.text, 'html.parser')\n",
        "maincolumn = soup_usp.find('figure', attrs={\"class\":\"wp-block-table\"})\n",
        "\n",
        "contador = 0\n",
        "for info_orientador in maincolumn.find_all('td'):\n",
        "    desloc = contador % 2\n",
        "    if desloc == 0:\n",
        "        name = info_orientador.find('a').text\n",
        "        gender = guess_name(name)\n",
        "        uspResearchers.append(ResearcherUSP(name, gender))\n",
        "    contador += 1\n",
        "\n",
        "with open('docentes-usp.cypher','w', encoding='UTF-8') as f:\n",
        "    f.write(\"CREATE(n:Institution {name: 'USP', color: '#800000'});\\n\")\n",
        "    for r in uspResearchers:\n",
        "        f.write(r.toCypher()+ \"\\n\")\n",
        "        f.write(\"MATCH(i:Institution {name: 'USP'}),(a:Author {name: '\"+r.name+\"'}) MERGE (a)-[r:ASSOCIATED_TO]->(i);\\n\")\n",
        "    f.close()     \n",
        "print(\"Finished !!\")\n"
      ],
      "metadata": {
        "colab": {
          "base_uri": "https://localhost:8080/"
        },
        "id": "ReAZKawFaIaL",
        "outputId": "0b0e40e7-1c78-4f6c-c260-15bd8fd30d01"
      },
      "execution_count": null,
      "outputs": [
        {
          "output_type": "stream",
          "name": "stdout",
          "text": [
            "Finished !!\n"
          ]
        }
      ]
    }
  ]
}